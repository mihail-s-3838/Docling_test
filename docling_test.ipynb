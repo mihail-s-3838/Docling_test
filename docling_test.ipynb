{
 "cells": [
  {
   "cell_type": "code",
   "execution_count": 17,
   "metadata": {},
   "outputs": [],
   "source": [
    "from docling.document_converter import DocumentConverter\n",
    "from docling.datamodel.base_models import InputFormat\n",
    "from docling.document_converter import (\n",
    "    DocumentConverter,\n",
    "    PdfFormatOption,\n",
    "    WordFormatOption,\n",
    ")\n",
    "from docling.pipeline.simple_pipeline import SimplePipeline\n",
    "from docling.pipeline.standard_pdf_pipeline import StandardPdfPipeline\n",
    "from docling.datamodel.pipeline_options import (\n",
    "    AcceleratorDevice,\n",
    "    AcceleratorOptions,\n",
    "    EasyOcrOptions,\n",
    "    PdfPipelineOptions,\n",
    "    TableFormerMode\n",
    ")\n",
    "\n",
    "from docling.backend.pypdfium2_backend import PyPdfiumDocumentBackend\n",
    "\n",
    "from docling_core.types.doc.document import (\n",
    "    TextItem,\n",
    "    TableItem,\n",
    "    PictureItem,\n",
    "    ImageRefMode\n",
    ")\n",
    "\n",
    "#Accelerator Options\n",
    "\n",
    "accelerator_options = AcceleratorOptions(\n",
    "    num_threads=8, device=AcceleratorDevice.CPU\n",
    ")\n",
    "\n",
    "#Pipeline Options\n",
    "pipeline_options = PdfPipelineOptions()\n",
    "pipeline_options.accelerator_options = accelerator_options\n",
    "pipeline_options.do_ocr = False\n",
    "pipeline_options.do_table_structure = True\n",
    "pipeline_options.table_structure_options.mode = TableFormerMode.ACCURATE\n",
    "pipeline_options.table_structure_options.do_cell_matching = True\n",
    "pipeline_options.generate_picture_images=False\n",
    "pipeline_options.do_picture_description=False\n",
    "#...\n",
    "\n",
    "# (Testing) OCR Options:\n",
    "ocr_options = EasyOcrOptions(lang=[\"ja\", \"en\"])\n",
    "\n",
    "\n",
    "## Custom options are now defined per format.\n",
    "doc_converter = (\n",
    "    DocumentConverter(  # all of the below is optional, has internal defaults.\n",
    "        allowed_formats=[\n",
    "            InputFormat.PDF,\n",
    "            InputFormat.IMAGE,\n",
    "            InputFormat.DOCX,\n",
    "            InputFormat.HTML,\n",
    "            InputFormat.PPTX,\n",
    "        ],  # whitelist formats, non-matching files are ignored.\n",
    "        format_options={\n",
    "            InputFormat.PDF: PdfFormatOption(\n",
    "                pipeline_options=pipeline_options, # pipeline options go here.\n",
    "                backend=PyPdfiumDocumentBackend # optional: pick an alternative backend\n",
    "            ),\n",
    "            InputFormat.DOCX: WordFormatOption(\n",
    "                pipeline_cls=SimplePipeline # default for office formats and HTML\n",
    "            ),\n",
    "        },\n",
    "    )\n",
    ")"
   ]
  },
  {
   "cell_type": "code",
   "execution_count": 18,
   "metadata": {},
   "outputs": [],
   "source": [
    "from docling.datamodel.document import ConversionResult\n",
    "## Convert a single file (from URL or local path)\n",
    "conv_result: ConversionResult = doc_converter.convert(\"./sample_pdf/test.pdf\") # previously `convert_single`\n",
    "# conv_result: ConversionResult = doc_converter.convert(\"./sample_pdf/docling_technical_report.pdf\")\n",
    "\n",
    "# ## Convert several files at once:\n",
    "\n",
    "# input_files = [\n",
    "#     \"tests/data/html/wiki_duck.html\",\n",
    "#     \"tests/data/docx/word_sample.docx\",\n",
    "#     \"tests/data/docx/lorem_ipsum.docx\",\n",
    "#     \"tests/data/pptx/powerpoint_sample.pptx\",\n",
    "#     \"tests/data/2305.03393v1-pg9-img.png\",\n",
    "#     \"tests/data/pdf/2206.01062.pdf\",\n",
    "# ]\n",
    "\n",
    "# # Directly pass list of files or streams to `convert_all`\n",
    "# conv_results_iter = doc_converter.convert_all(input_files) # previously `convert`"
   ]
  },
  {
   "cell_type": "markdown",
   "metadata": {},
   "source": [
    "### 実行時間\n",
    "- ocr無し・TableFormerMode.ACCURATE無し・picture_generate無し:1分程度\n",
    "- ocr有り・TableFormerMode.ACCURATE有り・picture_generate有り:66分程度"
   ]
  },
  {
   "cell_type": "code",
   "execution_count": 19,
   "metadata": {},
   "outputs": [
    {
     "name": "stdout",
     "output_type": "stream",
     "text": [
      "(SectionHeaderItem(self_ref='#/texts/0', parent=RefItem(cref='#/body'), children=[], content_layer=<ContentLayer.BODY: 'body'>, label=<DocItemLabel.SECTION_HEADER: 'section_header'>, prov=[ProvenanceItem(page_no=1, bbox=BoundingBox(l=86.2850341796875, t=718.45849609375, r=143.92855834960938, b=704.094482421875, coord_origin=<CoordOrigin.BOTTOMLEFT: 'BOTTOMLEFT'>), charspan=(0, 4))], orig='見出し１', text='見出し１', level=1), 1)\n",
      "(TextItem(self_ref='#/texts/1', parent=RefItem(cref='#/body'), children=[], content_layer=<ContentLayer.BODY: 'body'>, label=<DocItemLabel.TEXT: 'text'>, prov=[ProvenanceItem(page_no=1, bbox=BoundingBox(l=128.1389617919922, t=673.531494140625, r=179.1884002685547, b=660.8955078125, coord_origin=<CoordOrigin.BOTTOMLEFT: 'BOTTOMLEFT'>), charspan=(0, 4))], orig='見出し２', text='見出し２'), 1)\n",
      "(TextItem(self_ref='#/texts/2', parent=RefItem(cref='#/body'), children=[], content_layer=<ContentLayer.BODY: 'body'>, label=<DocItemLabel.TEXT: 'text'>, prov=[ProvenanceItem(page_no=1, bbox=BoundingBox(l=169.98800659179688, t=628.5040283203125, r=213.7580108642578, b=617.7040405273438, coord_origin=<CoordOrigin.BOTTOMLEFT: 'BOTTOMLEFT'>), charspan=(0, 4))], orig='見出し３', text='見出し３'), 1)\n",
      "(TextItem(self_ref='#/texts/3', parent=RefItem(cref='#/body'), children=[], content_layer=<ContentLayer.BODY: 'body'>, label=<DocItemLabel.TEXT: 'text'>, prov=[ProvenanceItem(page_no=1, bbox=BoundingBox(l=85.68911743164062, t=587.0231323242188, r=126.21695709228516, b=578.8756103515625, coord_origin=<CoordOrigin.BOTTOMLEFT: 'BOTTOMLEFT'>), charspan=(0, 7))], orig='3333333', text='3333333'), 1)\n",
      "(TextItem(self_ref='#/texts/4', parent=RefItem(cref='#/body'), children=[], content_layer=<ContentLayer.BODY: 'body'>, label=<DocItemLabel.TEXT: 'text'>, prov=[ProvenanceItem(page_no=1, bbox=BoundingBox(l=85.92095947265625, t=544.0304565429688, r=126.20191955566406, b=534.094482421875, coord_origin=<CoordOrigin.BOTTOMLEFT: 'BOTTOMLEFT'>), charspan=(0, 4))], orig='見出し４', text='見出し４'), 1)\n",
      "(SectionHeaderItem(self_ref='#/texts/5', parent=RefItem(cref='#/body'), children=[], content_layer=<ContentLayer.BODY: 'body'>, label=<DocItemLabel.SECTION_HEADER: 'section_header'>, prov=[ProvenanceItem(page_no=1, bbox=BoundingBox(l=85.55663299560547, t=504.9983215332031, r=126.53711700439453, b=496.9832763671875, coord_origin=<CoordOrigin.BOTTOMLEFT: 'BOTTOMLEFT'>), charspan=(0, 7))], orig='4444444', text='4444444', level=1), 1)\n",
      "(TableItem(self_ref='#/tables/0', parent=RefItem(cref='#/body'), children=[], content_layer=<ContentLayer.BODY: 'body'>, label=<DocItemLabel.TABLE: 'table'>, prov=[ProvenanceItem(page_no=1, bbox=BoundingBox(l=85.31531524658203, t=475.53631591796875, r=510.484619140625, b=364.50604248046875, coord_origin=<CoordOrigin.BOTTOMLEFT: 'BOTTOMLEFT'>), charspan=(0, 0))], captions=[], references=[], footnotes=[], image=None, data=TableData(table_cells=[TableCell(bbox=BoundingBox(l=90.74400329589844, t=381.3423156738281, r=98.54928588867188, b=389.45672607421875, coord_origin=<CoordOrigin.TOPLEFT: 'TOPLEFT'>), row_span=1, col_span=1, start_row_offset_idx=0, end_row_offset_idx=1, start_col_offset_idx=0, end_col_offset_idx=1, text='A', column_header=True, row_header=False, row_section=False), TableCell(bbox=BoundingBox(l=232.66952514648438, t=381.47479248046875, r=239.18312072753906, b=389.4787902832031, coord_origin=<CoordOrigin.TOPLEFT: 'TOPLEFT'>), row_span=1, col_span=1, start_row_offset_idx=0, end_row_offset_idx=1, start_col_offset_idx=1, end_col_offset_idx=2, text='B', column_header=True, row_header=False, row_section=False), TableCell(bbox=BoundingBox(l=374.5434265136719, t=381.3312683105469, r=381.6200866699219, b=389.63336181640625, coord_origin=<CoordOrigin.TOPLEFT: 'TOPLEFT'>), row_span=1, col_span=1, start_row_offset_idx=0, end_row_offset_idx=1, start_col_offset_idx=2, end_col_offset_idx=3, text='C', column_header=True, row_header=False, row_section=False), TableCell(bbox=BoundingBox(l=91.35120391845703, t=420.8583068847656, r=95.844482421875, b=426.11334228515625, coord_origin=<CoordOrigin.TOPLEFT: 'TOPLEFT'>), row_span=1, col_span=1, start_row_offset_idx=1, end_row_offset_idx=2, start_col_offset_idx=0, end_col_offset_idx=1, text='a', column_header=False, row_header=False, row_section=False), TableCell(bbox=BoundingBox(l=232.43768310546875, t=417.5462951660156, r=237.8141632080078, b=426.11334228515625, coord_origin=<CoordOrigin.TOPLEFT: 'TOPLEFT'>), row_span=1, col_span=1, start_row_offset_idx=1, end_row_offset_idx=2, start_col_offset_idx=1, end_col_offset_idx=2, text='b', column_header=False, row_header=False, row_section=False), TableCell(bbox=BoundingBox(l=374.4551086425781, t=420.8583068847656, r=378.70550537109375, b=426.11334228515625, coord_origin=<CoordOrigin.TOPLEFT: 'TOPLEFT'>), row_span=1, col_span=1, start_row_offset_idx=1, end_row_offset_idx=2, start_col_offset_idx=2, end_col_offset_idx=3, text='c', column_header=False, row_header=False, row_section=False), TableCell(bbox=BoundingBox(l=91.35120391845703, t=457.3583068847656, r=95.844482421875, b=462.61334228515625, coord_origin=<CoordOrigin.TOPLEFT: 'TOPLEFT'>), row_span=1, col_span=1, start_row_offset_idx=2, end_row_offset_idx=3, start_col_offset_idx=0, end_col_offset_idx=1, text='a', column_header=False, row_header=False, row_section=False), TableCell(bbox=BoundingBox(l=232.43768310546875, t=454.0462951660156, r=237.8141632080078, b=462.61334228515625, coord_origin=<CoordOrigin.TOPLEFT: 'TOPLEFT'>), row_span=1, col_span=1, start_row_offset_idx=2, end_row_offset_idx=3, start_col_offset_idx=1, end_col_offset_idx=2, text='b', column_header=False, row_header=False, row_section=False), TableCell(bbox=BoundingBox(l=374.4551086425781, t=457.3583068847656, r=378.70550537109375, b=462.61334228515625, coord_origin=<CoordOrigin.TOPLEFT: 'TOPLEFT'>), row_span=1, col_span=1, start_row_offset_idx=2, end_row_offset_idx=3, start_col_offset_idx=2, end_col_offset_idx=3, text='c', column_header=False, row_header=False, row_section=False)], num_rows=3, num_cols=3, grid=[[TableCell(bbox=BoundingBox(l=90.74400329589844, t=381.3423156738281, r=98.54928588867188, b=389.45672607421875, coord_origin=<CoordOrigin.TOPLEFT: 'TOPLEFT'>), row_span=1, col_span=1, start_row_offset_idx=0, end_row_offset_idx=1, start_col_offset_idx=0, end_col_offset_idx=1, text='A', column_header=True, row_header=False, row_section=False), TableCell(bbox=BoundingBox(l=232.66952514648438, t=381.47479248046875, r=239.18312072753906, b=389.4787902832031, coord_origin=<CoordOrigin.TOPLEFT: 'TOPLEFT'>), row_span=1, col_span=1, start_row_offset_idx=0, end_row_offset_idx=1, start_col_offset_idx=1, end_col_offset_idx=2, text='B', column_header=True, row_header=False, row_section=False), TableCell(bbox=BoundingBox(l=374.5434265136719, t=381.3312683105469, r=381.6200866699219, b=389.63336181640625, coord_origin=<CoordOrigin.TOPLEFT: 'TOPLEFT'>), row_span=1, col_span=1, start_row_offset_idx=0, end_row_offset_idx=1, start_col_offset_idx=2, end_col_offset_idx=3, text='C', column_header=True, row_header=False, row_section=False)], [TableCell(bbox=BoundingBox(l=91.35120391845703, t=420.8583068847656, r=95.844482421875, b=426.11334228515625, coord_origin=<CoordOrigin.TOPLEFT: 'TOPLEFT'>), row_span=1, col_span=1, start_row_offset_idx=1, end_row_offset_idx=2, start_col_offset_idx=0, end_col_offset_idx=1, text='a', column_header=False, row_header=False, row_section=False), TableCell(bbox=BoundingBox(l=232.43768310546875, t=417.5462951660156, r=237.8141632080078, b=426.11334228515625, coord_origin=<CoordOrigin.TOPLEFT: 'TOPLEFT'>), row_span=1, col_span=1, start_row_offset_idx=1, end_row_offset_idx=2, start_col_offset_idx=1, end_col_offset_idx=2, text='b', column_header=False, row_header=False, row_section=False), TableCell(bbox=BoundingBox(l=374.4551086425781, t=420.8583068847656, r=378.70550537109375, b=426.11334228515625, coord_origin=<CoordOrigin.TOPLEFT: 'TOPLEFT'>), row_span=1, col_span=1, start_row_offset_idx=1, end_row_offset_idx=2, start_col_offset_idx=2, end_col_offset_idx=3, text='c', column_header=False, row_header=False, row_section=False)], [TableCell(bbox=BoundingBox(l=91.35120391845703, t=457.3583068847656, r=95.844482421875, b=462.61334228515625, coord_origin=<CoordOrigin.TOPLEFT: 'TOPLEFT'>), row_span=1, col_span=1, start_row_offset_idx=2, end_row_offset_idx=3, start_col_offset_idx=0, end_col_offset_idx=1, text='a', column_header=False, row_header=False, row_section=False), TableCell(bbox=BoundingBox(l=232.43768310546875, t=454.0462951660156, r=237.8141632080078, b=462.61334228515625, coord_origin=<CoordOrigin.TOPLEFT: 'TOPLEFT'>), row_span=1, col_span=1, start_row_offset_idx=2, end_row_offset_idx=3, start_col_offset_idx=1, end_col_offset_idx=2, text='b', column_header=False, row_header=False, row_section=False), TableCell(bbox=BoundingBox(l=374.4551086425781, t=457.3583068847656, r=378.70550537109375, b=462.61334228515625, coord_origin=<CoordOrigin.TOPLEFT: 'TOPLEFT'>), row_span=1, col_span=1, start_row_offset_idx=2, end_row_offset_idx=3, start_col_offset_idx=2, end_col_offset_idx=3, text='c', column_header=False, row_header=False, row_section=False)]])), 1)\n",
      "(TextItem(self_ref='#/texts/6', parent=RefItem(cref='#/body'), children=[], content_layer=<ContentLayer.BODY: 'body'>, label=<DocItemLabel.TEXT: 'text'>, prov=[ProvenanceItem(page_no=1, bbox=BoundingBox(l=96.9609603881836, t=348.05047607421875, r=137.13153076171875, b=338.1144714355469, coord_origin=<CoordOrigin.BOTTOMLEFT: 'BOTTOMLEFT'>), charspan=(0, 5))], orig='見出し 5', text='見出し 5'), 1)\n",
      "(TextItem(self_ref='#/texts/7', parent=RefItem(cref='#/body'), children=[], content_layer=<ContentLayer.BODY: 'body'>, label=<DocItemLabel.TEXT: 'text'>, prov=[ProvenanceItem(page_no=1, bbox=BoundingBox(l=85.68911743164062, t=308.7975158691406, r=155.94769287109375, b=300.8155822753906, coord_origin=<CoordOrigin.BOTTOMLEFT: 'BOTTOMLEFT'>), charspan=(0, 12))], orig='555555555555', text='555555555555'), 1)\n"
     ]
    }
   ],
   "source": [
    "import pandas as pd\n",
    "\n",
    "\"\"\"\n",
    "https://ds4sd.github.io/docling/reference/docling_document/#docling_core.types.doc.DoclingDocument\n",
    "\"\"\"\n",
    "\n",
    "docling_document = conv_result.document\n",
    "\n",
    "# Print Out Docling Document Contents\n",
    "\n",
    "# print(conv_result.document.texts)\n",
    "# print([t.text for t in conv_result.document.texts])\n",
    "\n",
    "# print(conv_result.document.tables)\n",
    "# print(conv_result.document.pictures)\n",
    "\n",
    "\n",
    "# print(docling_document.print_element_tree())\n",
    "\n",
    "## Iterate the elements in reading order, including hierachy level:\n",
    "for tuple in conv_result.document.iterate_items():\n",
    "    print(tuple)\n",
    "# for item, level in conv_result.document.iterate_items():\n",
    "    # print(item,level)\n",
    "#     # if not isinstance(item, PictureItem):\n",
    "#     # #     print(type(item))\n",
    "#     #     print(item.text)\n",
    "#     # if isinstance(item, TextItem):\n",
    "#     #     print(\"<<< TEXT >>>\")\n",
    "#     #     print(str(item.parent.get_ref()))\n",
    "#     #     print(f\".text: \\n{item.text}\")\n",
    "#     # #     # print(f\".children: \\n{item.children}\")\n",
    "#     # elif isinstance(item, TableItem):\n",
    "#     #     table_df: pd.DataFrame = item.export_to_dataframe()\n",
    "#     #     print(\"<<< TABLE >>>\")\n",
    "#     #     print(table_df.head())\n",
    "#     # if isinstance(item, PictureItem):\n",
    "#     #     for item in item.children:\n",
    "#     #         # print(type(item))\n",
    "#     #         # print(type(item.get_ref()))\n",
    "#     #         if \"texts\" in str(item.get_ref()):\n",
    "#     #             print(item.resolve())"
   ]
  },
  {
   "cell_type": "markdown",
   "metadata": {},
   "source": [
    "* ##### SAVE AS JSON/MD/HTML FILE"
   ]
  },
  {
   "cell_type": "code",
   "execution_count": 20,
   "metadata": {},
   "outputs": [
    {
     "name": "stdout",
     "output_type": "stream",
     "text": [
      "export_to_dict OUT:\n",
      "{'schema_name': 'DoclingDocument', 'version': '1.2.0', 'name': 'test', 'origin': {'mimetype': 'application/pdf', 'binary_hash': 9727528158719599069, 'filename': 'test.pdf'}, 'furniture': {'self_ref': '#/furniture', 'children': [], 'content_layer': 'furniture', 'name': '_root_', 'label': 'unspecified'}, 'body': {'self_ref': '#/body', 'children': [{'$ref': '#/texts/0'}, {'$ref': '#/texts/1'}, {'$ref': '#/texts/2'}, {'$ref': '#/texts/3'}, {'$ref': '#/texts/4'}, {'$ref': '#/texts/5'}, {'$ref': '#/tables/0'}, {'$ref': '#/texts/6'}, {'$ref': '#/texts/7'}], 'content_layer': 'body', 'name': '_root_', 'label': 'unspecified'}, 'groups': [], 'texts': [{'self_ref': '#/texts/0', 'parent': {'$ref': '#/body'}, 'children': [], 'content_layer': 'body', 'label': 'section_header', 'prov': [{'page_no': 1, 'bbox': {'l': 86.2850341796875, 't': 718.45849609375, 'r': 143.92855834960938, 'b': 704.094482421875, 'coord_origin': 'BOTTOMLEFT'}, 'charspan': [0, 4]}], 'orig': '見出し１', 'text': '見出し１', 'level': 1}, {'self_ref': '#/texts/1', 'parent': {'$ref': '#/body'}, 'children': [], 'content_layer': 'body', 'label': 'text', 'prov': [{'page_no': 1, 'bbox': {'l': 128.1389617919922, 't': 673.531494140625, 'r': 179.1884002685547, 'b': 660.8955078125, 'coord_origin': 'BOTTOMLEFT'}, 'charspan': [0, 4]}], 'orig': '見出し２', 'text': '見出し２'}, {'self_ref': '#/texts/2', 'parent': {'$ref': '#/body'}, 'children': [], 'content_layer': 'body', 'label': 'text', 'prov': [{'page_no': 1, 'bbox': {'l': 169.98800659179688, 't': 628.5040283203125, 'r': 213.7580108642578, 'b': 617.7040405273438, 'coord_origin': 'BOTTOMLEFT'}, 'charspan': [0, 4]}], 'orig': '見出し３', 'text': '見出し３'}, {'self_ref': '#/texts/3', 'parent': {'$ref': '#/body'}, 'children': [], 'content_layer': 'body', 'label': 'text', 'prov': [{'page_no': 1, 'bbox': {'l': 85.68911743164062, 't': 587.0231323242188, 'r': 126.21695709228516, 'b': 578.8756103515625, 'coord_origin': 'BOTTOMLEFT'}, 'charspan': [0, 7]}], 'orig': '3333333', 'text': '3333333'}, {'self_ref': '#/texts/4', 'parent': {'$ref': '#/body'}, 'children': [], 'content_layer': 'body', 'label': 'text', 'prov': [{'page_no': 1, 'bbox': {'l': 85.92095947265625, 't': 544.0304565429688, 'r': 126.20191955566406, 'b': 534.094482421875, 'coord_origin': 'BOTTOMLEFT'}, 'charspan': [0, 4]}], 'orig': '見出し４', 'text': '見出し４'}, {'self_ref': '#/texts/5', 'parent': {'$ref': '#/body'}, 'children': [], 'content_layer': 'body', 'label': 'section_header', 'prov': [{'page_no': 1, 'bbox': {'l': 85.55663299560547, 't': 504.9983215332031, 'r': 126.53711700439453, 'b': 496.9832763671875, 'coord_origin': 'BOTTOMLEFT'}, 'charspan': [0, 7]}], 'orig': '4444444', 'text': '4444444', 'level': 1}, {'self_ref': '#/texts/6', 'parent': {'$ref': '#/body'}, 'children': [], 'content_layer': 'body', 'label': 'text', 'prov': [{'page_no': 1, 'bbox': {'l': 96.9609603881836, 't': 348.05047607421875, 'r': 137.13153076171875, 'b': 338.1144714355469, 'coord_origin': 'BOTTOMLEFT'}, 'charspan': [0, 5]}], 'orig': '見出し 5', 'text': '見出し 5'}, {'self_ref': '#/texts/7', 'parent': {'$ref': '#/body'}, 'children': [], 'content_layer': 'body', 'label': 'text', 'prov': [{'page_no': 1, 'bbox': {'l': 85.68911743164062, 't': 308.7975158691406, 'r': 155.94769287109375, 'b': 300.8155822753906, 'coord_origin': 'BOTTOMLEFT'}, 'charspan': [0, 12]}], 'orig': '555555555555', 'text': '555555555555'}], 'pictures': [], 'tables': [{'self_ref': '#/tables/0', 'parent': {'$ref': '#/body'}, 'children': [], 'content_layer': 'body', 'label': 'table', 'prov': [{'page_no': 1, 'bbox': {'l': 85.31531524658203, 't': 475.53631591796875, 'r': 510.484619140625, 'b': 364.50604248046875, 'coord_origin': 'BOTTOMLEFT'}, 'charspan': [0, 0]}], 'captions': [], 'references': [], 'footnotes': [], 'data': {'table_cells': [{'bbox': {'l': 90.74400329589844, 't': 381.3423156738281, 'r': 98.54928588867188, 'b': 389.45672607421875, 'coord_origin': 'TOPLEFT'}, 'row_span': 1, 'col_span': 1, 'start_row_offset_idx': 0, 'end_row_offset_idx': 1, 'start_col_offset_idx': 0, 'end_col_offset_idx': 1, 'text': 'A', 'column_header': True, 'row_header': False, 'row_section': False}, {'bbox': {'l': 232.66952514648438, 't': 381.47479248046875, 'r': 239.18312072753906, 'b': 389.4787902832031, 'coord_origin': 'TOPLEFT'}, 'row_span': 1, 'col_span': 1, 'start_row_offset_idx': 0, 'end_row_offset_idx': 1, 'start_col_offset_idx': 1, 'end_col_offset_idx': 2, 'text': 'B', 'column_header': True, 'row_header': False, 'row_section': False}, {'bbox': {'l': 374.5434265136719, 't': 381.3312683105469, 'r': 381.6200866699219, 'b': 389.63336181640625, 'coord_origin': 'TOPLEFT'}, 'row_span': 1, 'col_span': 1, 'start_row_offset_idx': 0, 'end_row_offset_idx': 1, 'start_col_offset_idx': 2, 'end_col_offset_idx': 3, 'text': 'C', 'column_header': True, 'row_header': False, 'row_section': False}, {'bbox': {'l': 91.35120391845703, 't': 420.8583068847656, 'r': 95.844482421875, 'b': 426.11334228515625, 'coord_origin': 'TOPLEFT'}, 'row_span': 1, 'col_span': 1, 'start_row_offset_idx': 1, 'end_row_offset_idx': 2, 'start_col_offset_idx': 0, 'end_col_offset_idx': 1, 'text': 'a', 'column_header': False, 'row_header': False, 'row_section': False}, {'bbox': {'l': 232.43768310546875, 't': 417.5462951660156, 'r': 237.8141632080078, 'b': 426.11334228515625, 'coord_origin': 'TOPLEFT'}, 'row_span': 1, 'col_span': 1, 'start_row_offset_idx': 1, 'end_row_offset_idx': 2, 'start_col_offset_idx': 1, 'end_col_offset_idx': 2, 'text': 'b', 'column_header': False, 'row_header': False, 'row_section': False}, {'bbox': {'l': 374.4551086425781, 't': 420.8583068847656, 'r': 378.70550537109375, 'b': 426.11334228515625, 'coord_origin': 'TOPLEFT'}, 'row_span': 1, 'col_span': 1, 'start_row_offset_idx': 1, 'end_row_offset_idx': 2, 'start_col_offset_idx': 2, 'end_col_offset_idx': 3, 'text': 'c', 'column_header': False, 'row_header': False, 'row_section': False}, {'bbox': {'l': 91.35120391845703, 't': 457.3583068847656, 'r': 95.844482421875, 'b': 462.61334228515625, 'coord_origin': 'TOPLEFT'}, 'row_span': 1, 'col_span': 1, 'start_row_offset_idx': 2, 'end_row_offset_idx': 3, 'start_col_offset_idx': 0, 'end_col_offset_idx': 1, 'text': 'a', 'column_header': False, 'row_header': False, 'row_section': False}, {'bbox': {'l': 232.43768310546875, 't': 454.0462951660156, 'r': 237.8141632080078, 'b': 462.61334228515625, 'coord_origin': 'TOPLEFT'}, 'row_span': 1, 'col_span': 1, 'start_row_offset_idx': 2, 'end_row_offset_idx': 3, 'start_col_offset_idx': 1, 'end_col_offset_idx': 2, 'text': 'b', 'column_header': False, 'row_header': False, 'row_section': False}, {'bbox': {'l': 374.4551086425781, 't': 457.3583068847656, 'r': 378.70550537109375, 'b': 462.61334228515625, 'coord_origin': 'TOPLEFT'}, 'row_span': 1, 'col_span': 1, 'start_row_offset_idx': 2, 'end_row_offset_idx': 3, 'start_col_offset_idx': 2, 'end_col_offset_idx': 3, 'text': 'c', 'column_header': False, 'row_header': False, 'row_section': False}], 'num_rows': 3, 'num_cols': 3, 'grid': [[{'bbox': {'l': 90.74400329589844, 't': 381.3423156738281, 'r': 98.54928588867188, 'b': 389.45672607421875, 'coord_origin': 'TOPLEFT'}, 'row_span': 1, 'col_span': 1, 'start_row_offset_idx': 0, 'end_row_offset_idx': 1, 'start_col_offset_idx': 0, 'end_col_offset_idx': 1, 'text': 'A', 'column_header': True, 'row_header': False, 'row_section': False}, {'bbox': {'l': 232.66952514648438, 't': 381.47479248046875, 'r': 239.18312072753906, 'b': 389.4787902832031, 'coord_origin': 'TOPLEFT'}, 'row_span': 1, 'col_span': 1, 'start_row_offset_idx': 0, 'end_row_offset_idx': 1, 'start_col_offset_idx': 1, 'end_col_offset_idx': 2, 'text': 'B', 'column_header': True, 'row_header': False, 'row_section': False}, {'bbox': {'l': 374.5434265136719, 't': 381.3312683105469, 'r': 381.6200866699219, 'b': 389.63336181640625, 'coord_origin': 'TOPLEFT'}, 'row_span': 1, 'col_span': 1, 'start_row_offset_idx': 0, 'end_row_offset_idx': 1, 'start_col_offset_idx': 2, 'end_col_offset_idx': 3, 'text': 'C', 'column_header': True, 'row_header': False, 'row_section': False}], [{'bbox': {'l': 91.35120391845703, 't': 420.8583068847656, 'r': 95.844482421875, 'b': 426.11334228515625, 'coord_origin': 'TOPLEFT'}, 'row_span': 1, 'col_span': 1, 'start_row_offset_idx': 1, 'end_row_offset_idx': 2, 'start_col_offset_idx': 0, 'end_col_offset_idx': 1, 'text': 'a', 'column_header': False, 'row_header': False, 'row_section': False}, {'bbox': {'l': 232.43768310546875, 't': 417.5462951660156, 'r': 237.8141632080078, 'b': 426.11334228515625, 'coord_origin': 'TOPLEFT'}, 'row_span': 1, 'col_span': 1, 'start_row_offset_idx': 1, 'end_row_offset_idx': 2, 'start_col_offset_idx': 1, 'end_col_offset_idx': 2, 'text': 'b', 'column_header': False, 'row_header': False, 'row_section': False}, {'bbox': {'l': 374.4551086425781, 't': 420.8583068847656, 'r': 378.70550537109375, 'b': 426.11334228515625, 'coord_origin': 'TOPLEFT'}, 'row_span': 1, 'col_span': 1, 'start_row_offset_idx': 1, 'end_row_offset_idx': 2, 'start_col_offset_idx': 2, 'end_col_offset_idx': 3, 'text': 'c', 'column_header': False, 'row_header': False, 'row_section': False}], [{'bbox': {'l': 91.35120391845703, 't': 457.3583068847656, 'r': 95.844482421875, 'b': 462.61334228515625, 'coord_origin': 'TOPLEFT'}, 'row_span': 1, 'col_span': 1, 'start_row_offset_idx': 2, 'end_row_offset_idx': 3, 'start_col_offset_idx': 0, 'end_col_offset_idx': 1, 'text': 'a', 'column_header': False, 'row_header': False, 'row_section': False}, {'bbox': {'l': 232.43768310546875, 't': 454.0462951660156, 'r': 237.8141632080078, 'b': 462.61334228515625, 'coord_origin': 'TOPLEFT'}, 'row_span': 1, 'col_span': 1, 'start_row_offset_idx': 2, 'end_row_offset_idx': 3, 'start_col_offset_idx': 1, 'end_col_offset_idx': 2, 'text': 'b', 'column_header': False, 'row_header': False, 'row_section': False}, {'bbox': {'l': 374.4551086425781, 't': 457.3583068847656, 'r': 378.70550537109375, 'b': 462.61334228515625, 'coord_origin': 'TOPLEFT'}, 'row_span': 1, 'col_span': 1, 'start_row_offset_idx': 2, 'end_row_offset_idx': 3, 'start_col_offset_idx': 2, 'end_col_offset_idx': 3, 'text': 'c', 'column_header': False, 'row_header': False, 'row_section': False}]]}}], 'key_value_items': [], 'form_items': [], 'pages': {'1': {'size': {'width': 595.3200073242188, 'height': 841.9199829101562}, 'page_no': 1}}}\n"
     ]
    }
   ],
   "source": [
    "from pathlib import Path\n",
    "json_output_file=Path(\"./output/test.json\")\n",
    "# json_output_file=Path(\"./output/docling_paper.json\")\n",
    "\n",
    "# JSON\n",
    "docling_document.save_as_json(json_output_file, image_mode=ImageRefMode.EMBEDDED)\n",
    "\n",
    "#!!! jsonの日本語文字化け発生(UnicodeエスケープでuXXXみたいになる)\n",
    "# \"\"\"\n",
    "# 以下のライブラリコードのsave_as_jsonを修正し文字化け修正：\n",
    "# .conda/envs/pdf_ext/Lib/site-packages/docling_core/types/doc/document.py\"\n",
    "\n",
    "# BEFORE: json.dump(out, fw, indent=indent)\n",
    "# AFTER:  json.dump(out, fw, ensure_ascii=False, indent=indent)\n",
    "\n",
    "# \"\"\"\n",
    "\n",
    "# HTML\n",
    "# html_output_file=Path(\"./output/trm_docling.html\")\n",
    "# docling_document.save_as_html(html_output_file, image_mode=ImageRefMode.EMBEDDED)\n",
    "\n",
    "# Markdown\n",
    "md_output_file=Path(\"./output/test.md\")\n",
    "docling_document.save_as_markdown(md_output_file, image_mode=ImageRefMode.EMBEDDED)"
   ]
  },
  {
   "cell_type": "code",
   "execution_count": 9,
   "metadata": {},
   "outputs": [],
   "source": [
    "from docling.chunking import HybridChunker\n",
    "\n",
    "chunker = HybridChunker()\n",
    "chunk_iter = chunker.chunk(dl_doc=docling_document)"
   ]
  },
  {
   "cell_type": "code",
   "execution_count": 10,
   "metadata": {},
   "outputs": [
    {
     "name": "stdout",
     "output_type": "stream",
     "text": [
      "text='見出し１\\n見出し２\\n見出し３\\n3333333\\n見出し４\\n4444444\\na, B = b. a, C = c. a, B = b. a, C = c\\n見出し 5\\n555555555555' meta=DocMeta(schema_name='docling_core.transforms.chunker.DocMeta', version='1.0.0', doc_items=[DocItem(self_ref='#/texts/0', parent=RefItem(cref='#/body'), children=[], content_layer=<ContentLayer.BODY: 'body'>, label=<DocItemLabel.TEXT: 'text'>, prov=[ProvenanceItem(page_no=1, bbox=BoundingBox(l=86.2850341796875, t=718.45849609375, r=143.92855834960938, b=704.094482421875, coord_origin=<CoordOrigin.BOTTOMLEFT: 'BOTTOMLEFT'>), charspan=(0, 4))]), DocItem(self_ref='#/texts/1', parent=RefItem(cref='#/body'), children=[], content_layer=<ContentLayer.BODY: 'body'>, label=<DocItemLabel.TEXT: 'text'>, prov=[ProvenanceItem(page_no=1, bbox=BoundingBox(l=86.14295959472656, t=673.531494140625, r=137.1884002685547, b=660.8955078125, coord_origin=<CoordOrigin.BOTTOMLEFT: 'BOTTOMLEFT'>), charspan=(0, 4))]), DocItem(self_ref='#/texts/2', parent=RefItem(cref='#/body'), children=[], content_layer=<ContentLayer.BODY: 'body'>, label=<DocItemLabel.TEXT: 'text'>, prov=[ProvenanceItem(page_no=1, bbox=BoundingBox(l=85.99199676513672, t=628.5040283203125, r=129.72799682617188, b=617.7040405273438, coord_origin=<CoordOrigin.BOTTOMLEFT: 'BOTTOMLEFT'>), charspan=(0, 4))]), DocItem(self_ref='#/texts/3', parent=RefItem(cref='#/body'), children=[], content_layer=<ContentLayer.BODY: 'body'>, label=<DocItemLabel.TEXT: 'text'>, prov=[ProvenanceItem(page_no=1, bbox=BoundingBox(l=85.68911743164062, t=587.0231323242188, r=126.21695709228516, b=578.8756103515625, coord_origin=<CoordOrigin.BOTTOMLEFT: 'BOTTOMLEFT'>), charspan=(0, 7))]), DocItem(self_ref='#/texts/4', parent=RefItem(cref='#/body'), children=[], content_layer=<ContentLayer.BODY: 'body'>, label=<DocItemLabel.TEXT: 'text'>, prov=[ProvenanceItem(page_no=1, bbox=BoundingBox(l=85.92095947265625, t=544.0304565429688, r=126.20191955566406, b=534.094482421875, coord_origin=<CoordOrigin.BOTTOMLEFT: 'BOTTOMLEFT'>), charspan=(0, 4))]), DocItem(self_ref='#/texts/5', parent=RefItem(cref='#/body'), children=[], content_layer=<ContentLayer.BODY: 'body'>, label=<DocItemLabel.TEXT: 'text'>, prov=[ProvenanceItem(page_no=1, bbox=BoundingBox(l=85.55663299560547, t=504.9983215332031, r=126.53711700439453, b=496.9832763671875, coord_origin=<CoordOrigin.BOTTOMLEFT: 'BOTTOMLEFT'>), charspan=(0, 7))]), DocItem(self_ref='#/tables/0', parent=RefItem(cref='#/body'), children=[], content_layer=<ContentLayer.BODY: 'body'>, label=<DocItemLabel.TABLE: 'table'>, prov=[ProvenanceItem(page_no=1, bbox=BoundingBox(l=85.35765838623047, t=475.57611083984375, r=510.45562744140625, b=364.4740905761719, coord_origin=<CoordOrigin.BOTTOMLEFT: 'BOTTOMLEFT'>), charspan=(0, 0))]), DocItem(self_ref='#/texts/6', parent=RefItem(cref='#/body'), children=[], content_layer=<ContentLayer.BODY: 'body'>, label=<DocItemLabel.TEXT: 'text'>, prov=[ProvenanceItem(page_no=1, bbox=BoundingBox(l=96.9609603881836, t=348.05047607421875, r=137.13153076171875, b=338.1144714355469, coord_origin=<CoordOrigin.BOTTOMLEFT: 'BOTTOMLEFT'>), charspan=(0, 5))]), DocItem(self_ref='#/texts/7', parent=RefItem(cref='#/body'), children=[], content_layer=<ContentLayer.BODY: 'body'>, label=<DocItemLabel.TEXT: 'text'>, prov=[ProvenanceItem(page_no=1, bbox=BoundingBox(l=85.68911743164062, t=308.7975158691406, r=155.94769287109375, b=300.8155822753906, coord_origin=<CoordOrigin.BOTTOMLEFT: 'BOTTOMLEFT'>), charspan=(0, 12))])], headings=None, captions=None, origin=DocumentOrigin(mimetype='application/pdf', binary_hash=3839337449629725512, filename='test.pdf', uri=None))\n"
     ]
    }
   ],
   "source": [
    "for chunk in chunk_iter:\n",
    "    print(chunk)"
   ]
  },
  {
   "cell_type": "markdown",
   "metadata": {},
   "source": [
    "* ##### SAVE IMAGES"
   ]
  },
  {
   "cell_type": "code",
   "execution_count": null,
   "metadata": {},
   "outputs": [],
   "source": [
    "\"\"\"\n",
    "参考：\n",
    "https://ds4sd.github.io/docling/examples/export_figures/\n",
    "\"\"\"\n",
    "if pipeline_options.generate_picture_images:\n",
    "    # Save images of figures and tables\n",
    "    table_counter = 0\n",
    "    picture_counter = 0\n",
    "    for element, _level in conv_res.document.iterate_items():\n",
    "        if isinstance(element, TableItem):\n",
    "            table_counter += 1\n",
    "            element_image_filename = (\n",
    "                output_dir / f\"{doc_filename}-table-{table_counter}.png\"\n",
    "            )\n",
    "            with element_image_filename.open(\"wb\") as fp:\n",
    "                element.get_image(conv_res.document).save(fp, \"PNG\")\n",
    "\n",
    "        if isinstance(element, PictureItem):\n",
    "            picture_counter += 1\n",
    "            element_image_filename = (\n",
    "                output_dir / f\"{doc_filename}-picture-{picture_counter}.png\"\n",
    "            )\n",
    "            with element_image_filename.open(\"wb\") as fp:\n",
    "                element.get_image(conv_res.document).save(fp, \"PNG\")"
   ]
  }
 ],
 "metadata": {
  "kernelspec": {
   "display_name": "pdf_ext",
   "language": "python",
   "name": "python3"
  },
  "language_info": {
   "codemirror_mode": {
    "name": "ipython",
    "version": 3
   },
   "file_extension": ".py",
   "mimetype": "text/x-python",
   "name": "python",
   "nbconvert_exporter": "python",
   "pygments_lexer": "ipython3",
   "version": "3.13.2"
  }
 },
 "nbformat": 4,
 "nbformat_minor": 2
}
