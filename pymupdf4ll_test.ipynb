{
 "cells": [
  {
   "cell_type": "code",
   "execution_count": 1,
   "metadata": {},
   "outputs": [
    {
     "name": "stdout",
     "output_type": "stream",
     "text": [
      "Processing ./sample_pdf/test.pdf...\n",
      "[                                        ] (0/1=======================================[========================================] (1/1]\n"
     ]
    }
   ],
   "source": [
    "import pymupdf4llm\n",
    "md_text = pymupdf4llm.to_markdown(\"./sample_pdf/test.pdf\")"
   ]
  },
  {
   "cell_type": "code",
   "execution_count": 2,
   "metadata": {},
   "outputs": [
    {
     "data": {
      "text/plain": [
       "'# 見出し１\\n\\n## 見出し２\\n\\n### 見出し３\\n\\n3333333\\n\\n見出し４\\n\\n4444444\\n\\nA\\n\\na\\n\\na\\n\\n見出し5\\n\\n555555555555\\n\\n|A|B|C|\\n|---|---|---|\\n|a|b|c|\\n|a|b|c|\\n\\n\\n-----\\n\\n'"
      ]
     },
     "execution_count": 2,
     "metadata": {},
     "output_type": "execute_result"
    }
   ],
   "source": [
    "md_text"
   ]
  },
  {
   "cell_type": "code",
   "execution_count": 3,
   "metadata": {},
   "outputs": [
    {
     "data": {
      "text/plain": [
       "165"
      ]
     },
     "execution_count": 3,
     "metadata": {},
     "output_type": "execute_result"
    }
   ],
   "source": [
    "import pathlib\n",
    "pathlib.Path(\"./output/test.md\").write_bytes(md_text.encode())"
   ]
  }
 ],
 "metadata": {
  "kernelspec": {
   "display_name": "pdf_ext",
   "language": "python",
   "name": "python3"
  },
  "language_info": {
   "codemirror_mode": {
    "name": "ipython",
    "version": 3
   },
   "file_extension": ".py",
   "mimetype": "text/x-python",
   "name": "python",
   "nbconvert_exporter": "python",
   "pygments_lexer": "ipython3",
   "version": "3.13.2"
  }
 },
 "nbformat": 4,
 "nbformat_minor": 2
}
