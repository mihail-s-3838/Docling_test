{
 "cells": [
  {
   "cell_type": "code",
   "execution_count": 1,
   "metadata": {},
   "outputs": [],
   "source": [
    "import cv2\n",
    "\n",
    "\n",
    "from yomitoku import DocumentAnalyzer\n",
    "from yomitoku.data.functions import load_pdf"
   ]
  },
  {
   "cell_type": "code",
   "execution_count": null,
   "metadata": {},
   "outputs": [
    {
     "ename": "ValueError",
     "evalue": "configs must be a dict. See the https://kotaro-kinoshita.github.io/yomitoku-dev/usage/",
     "output_type": "error",
     "traceback": [
      "\u001b[31m---------------------------------------------------------------------------\u001b[39m",
      "\u001b[31mValueError\u001b[39m                                Traceback (most recent call last)",
      "\u001b[36mCell\u001b[39m\u001b[36m \u001b[39m\u001b[32mIn[5]\u001b[39m\u001b[32m, line 5\u001b[39m\n\u001b[32m      1\u001b[39m \u001b[38;5;28;01mif\u001b[39;00m \u001b[34m__name__\u001b[39m == \u001b[33m\"\u001b[39m\u001b[33m__main__\u001b[39m\u001b[33m\"\u001b[39m:\n\u001b[32m      3\u001b[39m     PATH_IMGE = \u001b[33m\"\u001b[39m\u001b[33m./sample_pdf/test.pdf\u001b[39m\u001b[33m\"\u001b[39m\n\u001b[32m----> \u001b[39m\u001b[32m5\u001b[39m     analyzer = \u001b[43mDocumentAnalyzer\u001b[49m\u001b[43m(\u001b[49m\u001b[43mvisualize\u001b[49m\u001b[43m=\u001b[49m\u001b[38;5;28;43;01mTrue\u001b[39;49;00m\u001b[43m,\u001b[49m\u001b[43m \u001b[49m\u001b[43mdevice\u001b[49m\u001b[43m=\u001b[49m\u001b[33;43m\"\u001b[39;49m\u001b[33;43mcpu\u001b[39;49m\u001b[33;43m\"\u001b[39;49m\u001b[43m)\u001b[49m\n\u001b[32m      7\u001b[39m     \u001b[38;5;66;03m# PDFファイルを読み込み\u001b[39;00m\n\u001b[32m      9\u001b[39m     imgs = load_pdf(PATH_IMGE)\n",
      "\u001b[36mFile \u001b[39m\u001b[32m~\\AppData\\Roaming\\Python\\Python313\\site-packages\\yomitoku\\document_analyzer.py:185\u001b[39m, in \u001b[36mDocumentAnalyzer.__init__\u001b[39m\u001b[34m(self, configs, device, visualize)\u001b[39m\n\u001b[32m    183\u001b[39m     recursive_update(default_configs, configs)\n\u001b[32m    184\u001b[39m \u001b[38;5;28;01melse\u001b[39;00m:\n\u001b[32m--> \u001b[39m\u001b[32m185\u001b[39m     \u001b[38;5;28;01mraise\u001b[39;00m \u001b[38;5;167;01mValueError\u001b[39;00m(\n\u001b[32m    186\u001b[39m         \u001b[33m\"\u001b[39m\u001b[33mconfigs must be a dict. See the https://kotaro-kinoshita.github.io/yomitoku-dev/usage/\u001b[39m\u001b[33m\"\u001b[39m\n\u001b[32m    187\u001b[39m     )\n\u001b[32m    189\u001b[39m \u001b[38;5;28mself\u001b[39m.ocr = OCR(configs=default_configs[\u001b[33m\"\u001b[39m\u001b[33mocr\u001b[39m\u001b[33m\"\u001b[39m])\n\u001b[32m    190\u001b[39m \u001b[38;5;28mself\u001b[39m.layout = LayoutAnalyzer(configs=default_configs[\u001b[33m\"\u001b[39m\u001b[33mlayout_analyzer\u001b[39m\u001b[33m\"\u001b[39m])\n",
      "\u001b[31mValueError\u001b[39m: configs must be a dict. See the https://kotaro-kinoshita.github.io/yomitoku-dev/usage/"
     ]
    }
   ],
   "source": [
    "if __name__ == \"__main__\":\n",
    "\n",
    "    PATH_IMGE = \"./sample_pdf/test.pdf\"\n",
    "\n",
    "    analyzer = DocumentAnalyzer(visualize=True, device=\"c\")\n",
    "\n",
    "    # PDFファイルを読み込み\n",
    "\n",
    "    imgs = load_pdf(PATH_IMGE)"
   ]
  }
 ],
 "metadata": {
  "kernelspec": {
   "display_name": "pdf_ext",
   "language": "python",
   "name": "python3"
  },
  "language_info": {
   "codemirror_mode": {
    "name": "ipython",
    "version": 3
   },
   "file_extension": ".py",
   "mimetype": "text/x-python",
   "name": "python",
   "nbconvert_exporter": "python",
   "pygments_lexer": "ipython3",
   "version": "3.13.2"
  }
 },
 "nbformat": 4,
 "nbformat_minor": 2
}
